{
 "cells": [
  {
   "cell_type": "code",
   "execution_count": 1,
   "id": "6fb874ef-6550-4ebf-895d-dc7547a6a5ac",
   "metadata": {},
   "outputs": [],
   "source": [
    "import pandas as pd\n",
    "import numpy as np\n",
    "import glob\n",
    "import pathlib\n",
    "import plotly.express as px\n",
    "import plotly.graph_objects as go\n",
    "import plotly.io as pio"
   ]
  },
  {
   "cell_type": "markdown",
   "id": "07c88c0e-f4be-4c97-b90c-e639802e663e",
   "metadata": {},
   "source": [
    "Read the list of tickers from [https://www.sec.gov/file/company-tickers](https://www.sec.gov/file/company-tickers).\n",
    "\n",
    "The current SEC guidelines limit users to a total of no more than 10 requests per second, regardless of the number of machines used to submit requests.\n",
    "\n",
    "A user-agent must be declared in the request header in the following format:\n",
    "\n",
    "```\n",
    "Sample Company Name AdminContact@<sample company domain>.com\n",
    "```"
   ]
  },
  {
   "cell_type": "code",
   "execution_count": 2,
   "id": "3bdcadba-1ba7-4a83-8b46-b8b4f5004679",
   "metadata": {},
   "outputs": [],
   "source": [
    "import urllib.request, json\n",
    "import requests\n",
    "\n",
    "sec_request_headers = {\n",
    "    'User-Agent': 'University of Illinois ypark32@illinois.edu',\n",
    "}"
   ]
  },
  {
   "cell_type": "code",
   "execution_count": null,
   "id": "19cd3087-10fe-4dcf-8385-d2911fa97fcb",
   "metadata": {},
   "outputs": [],
   "source": [
    "tickers_url = 'https://www.sec.gov/files/company_tickers.json'\n",
    "\n",
    "response = requests.get(tickers_url, headers=sec_request_headers)\n",
    "cik_dict = response.json()"
   ]
  },
  {
   "cell_type": "markdown",
   "id": "f284d46d-9f49-4d39-86f3-ac9cfaede23b",
   "metadata": {},
   "source": [
    "Print the first five key-value pairs."
   ]
  },
  {
   "cell_type": "code",
   "execution_count": 3,
   "id": "8e21d159-6950-4715-b1a2-a7f90dc6f48e",
   "metadata": {},
   "outputs": [
    {
     "data": {
      "text/plain": [
       "{'0': {'cik_str': 320193, 'ticker': 'AAPL', 'title': 'Apple Inc.'},\n",
       " '1': {'cik_str': 789019, 'ticker': 'MSFT', 'title': 'MICROSOFT CORP'},\n",
       " '2': {'cik_str': 1045810, 'ticker': 'NVDA', 'title': 'NVIDIA CORP'},\n",
       " '3': {'cik_str': 1652044, 'ticker': 'GOOGL', 'title': 'Alphabet Inc.'},\n",
       " '4': {'cik_str': 1018724, 'ticker': 'AMZN', 'title': 'AMAZON COM INC'}}"
      ]
     },
     "execution_count": 3,
     "metadata": {},
     "output_type": "execute_result"
    }
   ],
   "source": [
    "{k: cik_dict[k] for k in list(cik_dict)[:5]}"
   ]
  },
  {
   "cell_type": "code",
   "execution_count": 4,
   "id": "eaaf27a7-5451-4dca-8037-b481f8676a97",
   "metadata": {},
   "outputs": [],
   "source": [
    "df = pd.DataFrame(\n",
    "    data=cik_dict.values()\n",
    ")"
   ]
  },
  {
   "cell_type": "code",
   "execution_count": 5,
   "id": "6ac9aa85-0db0-49a3-a9c9-f1ccf7c871bc",
   "metadata": {},
   "outputs": [
    {
     "data": {
      "text/html": [
       "<div>\n",
       "<style scoped>\n",
       "    .dataframe tbody tr th:only-of-type {\n",
       "        vertical-align: middle;\n",
       "    }\n",
       "\n",
       "    .dataframe tbody tr th {\n",
       "        vertical-align: top;\n",
       "    }\n",
       "\n",
       "    .dataframe thead th {\n",
       "        text-align: right;\n",
       "    }\n",
       "</style>\n",
       "<table border=\"1\" class=\"dataframe\">\n",
       "  <thead>\n",
       "    <tr style=\"text-align: right;\">\n",
       "      <th></th>\n",
       "      <th>cik_str</th>\n",
       "      <th>ticker</th>\n",
       "      <th>title</th>\n",
       "    </tr>\n",
       "  </thead>\n",
       "  <tbody>\n",
       "    <tr>\n",
       "      <th>0</th>\n",
       "      <td>320193</td>\n",
       "      <td>AAPL</td>\n",
       "      <td>Apple Inc.</td>\n",
       "    </tr>\n",
       "    <tr>\n",
       "      <th>1</th>\n",
       "      <td>789019</td>\n",
       "      <td>MSFT</td>\n",
       "      <td>MICROSOFT CORP</td>\n",
       "    </tr>\n",
       "    <tr>\n",
       "      <th>2</th>\n",
       "      <td>1045810</td>\n",
       "      <td>NVDA</td>\n",
       "      <td>NVIDIA CORP</td>\n",
       "    </tr>\n",
       "    <tr>\n",
       "      <th>3</th>\n",
       "      <td>1652044</td>\n",
       "      <td>GOOGL</td>\n",
       "      <td>Alphabet Inc.</td>\n",
       "    </tr>\n",
       "    <tr>\n",
       "      <th>4</th>\n",
       "      <td>1018724</td>\n",
       "      <td>AMZN</td>\n",
       "      <td>AMAZON COM INC</td>\n",
       "    </tr>\n",
       "    <tr>\n",
       "      <th>...</th>\n",
       "      <td>...</td>\n",
       "      <td>...</td>\n",
       "      <td>...</td>\n",
       "    </tr>\n",
       "    <tr>\n",
       "      <th>10162</th>\n",
       "      <td>1849820</td>\n",
       "      <td>KITTW</td>\n",
       "      <td>Nauticus Robotics, Inc.</td>\n",
       "    </tr>\n",
       "    <tr>\n",
       "      <th>10163</th>\n",
       "      <td>1276187</td>\n",
       "      <td>ET-PI</td>\n",
       "      <td>Energy Transfer LP</td>\n",
       "    </tr>\n",
       "    <tr>\n",
       "      <th>10164</th>\n",
       "      <td>1571283</td>\n",
       "      <td>REXR-PC</td>\n",
       "      <td>Rexford Industrial Realty, Inc.</td>\n",
       "    </tr>\n",
       "    <tr>\n",
       "      <th>10165</th>\n",
       "      <td>1855756</td>\n",
       "      <td>LILMW</td>\n",
       "      <td>Lilium N.V.</td>\n",
       "    </tr>\n",
       "    <tr>\n",
       "      <th>10166</th>\n",
       "      <td>886744</td>\n",
       "      <td>GERNW</td>\n",
       "      <td>GERON CORP</td>\n",
       "    </tr>\n",
       "  </tbody>\n",
       "</table>\n",
       "<p>10167 rows × 3 columns</p>\n",
       "</div>"
      ],
      "text/plain": [
       "       cik_str   ticker                            title\n",
       "0       320193     AAPL                       Apple Inc.\n",
       "1       789019     MSFT                   MICROSOFT CORP\n",
       "2      1045810     NVDA                      NVIDIA CORP\n",
       "3      1652044    GOOGL                    Alphabet Inc.\n",
       "4      1018724     AMZN                   AMAZON COM INC\n",
       "...        ...      ...                              ...\n",
       "10162  1849820    KITTW          Nauticus Robotics, Inc.\n",
       "10163  1276187    ET-PI               Energy Transfer LP\n",
       "10164  1571283  REXR-PC  Rexford Industrial Realty, Inc.\n",
       "10165  1855756    LILMW                      Lilium N.V.\n",
       "10166   886744    GERNW                       GERON CORP\n",
       "\n",
       "[10167 rows x 3 columns]"
      ]
     },
     "execution_count": 5,
     "metadata": {},
     "output_type": "execute_result"
    }
   ],
   "source": [
    "df"
   ]
  },
  {
   "cell_type": "code",
   "execution_count": 6,
   "id": "59b0d01c-2ccd-4c1d-ab44-d9814701bee0",
   "metadata": {},
   "outputs": [
    {
     "name": "stdout",
     "output_type": "stream",
     "text": [
      "<class 'pandas.core.frame.DataFrame'>\n",
      "RangeIndex: 10167 entries, 0 to 10166\n",
      "Data columns (total 3 columns):\n",
      " #   Column   Non-Null Count  Dtype \n",
      "---  ------   --------------  ----- \n",
      " 0   cik_str  10167 non-null  int64 \n",
      " 1   ticker   10167 non-null  object\n",
      " 2   title    10167 non-null  object\n",
      "dtypes: int64(1), object(2)\n",
      "memory usage: 238.4+ KB\n"
     ]
    }
   ],
   "source": [
    "df.info()"
   ]
  },
  {
   "cell_type": "markdown",
   "id": "5c78a0c9-a8de-46a7-9474-81f4101b7a20",
   "metadata": {},
   "source": [
    "The `\"cik_str\"` is an entity's Central Index Key (CIK). To use CIK values inside a query, the key must be zero-padded to be 10-digits long.\n",
    "\n",
    "Pad the values in the `\"cik_str\"` column."
   ]
  },
  {
   "cell_type": "code",
   "execution_count": 7,
   "id": "e7ddfcd1-ddd7-45f5-93b8-e17b39cd4325",
   "metadata": {},
   "outputs": [
    {
     "data": {
      "text/html": [
       "<div>\n",
       "<style scoped>\n",
       "    .dataframe tbody tr th:only-of-type {\n",
       "        vertical-align: middle;\n",
       "    }\n",
       "\n",
       "    .dataframe tbody tr th {\n",
       "        vertical-align: top;\n",
       "    }\n",
       "\n",
       "    .dataframe thead th {\n",
       "        text-align: right;\n",
       "    }\n",
       "</style>\n",
       "<table border=\"1\" class=\"dataframe\">\n",
       "  <thead>\n",
       "    <tr style=\"text-align: right;\">\n",
       "      <th></th>\n",
       "      <th>cik_str</th>\n",
       "      <th>ticker</th>\n",
       "      <th>title</th>\n",
       "    </tr>\n",
       "  </thead>\n",
       "  <tbody>\n",
       "    <tr>\n",
       "      <th>0</th>\n",
       "      <td>0000320193</td>\n",
       "      <td>AAPL</td>\n",
       "      <td>Apple Inc.</td>\n",
       "    </tr>\n",
       "    <tr>\n",
       "      <th>1</th>\n",
       "      <td>0000789019</td>\n",
       "      <td>MSFT</td>\n",
       "      <td>MICROSOFT CORP</td>\n",
       "    </tr>\n",
       "    <tr>\n",
       "      <th>2</th>\n",
       "      <td>0001045810</td>\n",
       "      <td>NVDA</td>\n",
       "      <td>NVIDIA CORP</td>\n",
       "    </tr>\n",
       "    <tr>\n",
       "      <th>3</th>\n",
       "      <td>0001652044</td>\n",
       "      <td>GOOGL</td>\n",
       "      <td>Alphabet Inc.</td>\n",
       "    </tr>\n",
       "    <tr>\n",
       "      <th>4</th>\n",
       "      <td>0001018724</td>\n",
       "      <td>AMZN</td>\n",
       "      <td>AMAZON COM INC</td>\n",
       "    </tr>\n",
       "    <tr>\n",
       "      <th>5</th>\n",
       "      <td>0001326801</td>\n",
       "      <td>META</td>\n",
       "      <td>Meta Platforms, Inc.</td>\n",
       "    </tr>\n",
       "    <tr>\n",
       "      <th>6</th>\n",
       "      <td>0001067983</td>\n",
       "      <td>BRK-B</td>\n",
       "      <td>BERKSHIRE HATHAWAY INC</td>\n",
       "    </tr>\n",
       "    <tr>\n",
       "      <th>7</th>\n",
       "      <td>0001046179</td>\n",
       "      <td>TSM</td>\n",
       "      <td>TAIWAN SEMICONDUCTOR MANUFACTURING CO LTD</td>\n",
       "    </tr>\n",
       "    <tr>\n",
       "      <th>8</th>\n",
       "      <td>0001730168</td>\n",
       "      <td>AVGO</td>\n",
       "      <td>Broadcom Inc.</td>\n",
       "    </tr>\n",
       "    <tr>\n",
       "      <th>9</th>\n",
       "      <td>0001318605</td>\n",
       "      <td>TSLA</td>\n",
       "      <td>Tesla, Inc.</td>\n",
       "    </tr>\n",
       "  </tbody>\n",
       "</table>\n",
       "</div>"
      ],
      "text/plain": [
       "      cik_str ticker                                      title\n",
       "0  0000320193   AAPL                                 Apple Inc.\n",
       "1  0000789019   MSFT                             MICROSOFT CORP\n",
       "2  0001045810   NVDA                                NVIDIA CORP\n",
       "3  0001652044  GOOGL                              Alphabet Inc.\n",
       "4  0001018724   AMZN                             AMAZON COM INC\n",
       "5  0001326801   META                       Meta Platforms, Inc.\n",
       "6  0001067983  BRK-B                     BERKSHIRE HATHAWAY INC\n",
       "7  0001046179    TSM  TAIWAN SEMICONDUCTOR MANUFACTURING CO LTD\n",
       "8  0001730168   AVGO                              Broadcom Inc.\n",
       "9  0001318605   TSLA                                Tesla, Inc."
      ]
     },
     "execution_count": 7,
     "metadata": {},
     "output_type": "execute_result"
    }
   ],
   "source": [
    "df['cik_str'] = df['cik_str'].astype(str).str.pad(width=10, fillchar='0')\n",
    "df.head(10)"
   ]
  },
  {
   "cell_type": "code",
   "execution_count": 8,
   "id": "d86f5f32-36fd-47c0-8707-75475440b1cb",
   "metadata": {},
   "outputs": [
    {
     "data": {
      "text/plain": [
       "'0000320193'"
      ]
     },
     "execution_count": 8,
     "metadata": {},
     "output_type": "execute_result"
    }
   ],
   "source": [
    "AAPL_cik = df.query(\"ticker == 'AAPL'\").iloc[0]['cik_str']\n",
    "\n",
    "AAPL_cik"
   ]
  },
  {
   "cell_type": "markdown",
   "id": "d5c5f5b6-7ab5-4d9f-8f13-84937abc05b0",
   "metadata": {},
   "source": [
    "### Company Facts"
   ]
  },
  {
   "cell_type": "code",
   "execution_count": 11,
   "id": "c32d1f92-a81f-40ba-9aea-cd9f04d7a735",
   "metadata": {},
   "outputs": [
    {
     "name": "stderr",
     "output_type": "stream",
     "text": [
      "IOPub data rate exceeded.\n",
      "The notebook server will temporarily stop sending output\n",
      "to the client in order to avoid crashing it.\n",
      "To change this limit, set the config variable\n",
      "`--NotebookApp.iopub_data_rate_limit`.\n",
      "\n",
      "Current values:\n",
      "NotebookApp.iopub_data_rate_limit=1000000.0 (bytes/sec)\n",
      "NotebookApp.rate_limit_window=3.0 (secs)\n",
      "\n"
     ]
    }
   ],
   "source": [
    "company_facts_url = f'https://data.sec.gov/api/xbrl/companyfacts/CIK{AAPL_cik}.json'\n",
    "\n",
    "response = requests.get(company_facts_url, headers=sec_request_headers)\n",
    "my_response = response.json()\n",
    "\n",
    "print(my_response)"
   ]
  },
  {
   "cell_type": "code",
   "execution_count": null,
   "id": "16569d8b-815c-4531-88d1-fe4a678b425f",
   "metadata": {},
   "outputs": [],
   "source": []
  },
  {
   "cell_type": "code",
   "execution_count": null,
   "id": "c8279819-a682-44c0-9499-4887b86cdb17",
   "metadata": {},
   "outputs": [],
   "source": []
  }
 ],
 "metadata": {
  "kernelspec": {
   "display_name": "Python 3 (ipykernel)",
   "language": "python",
   "name": "python3"
  },
  "language_info": {
   "codemirror_mode": {
    "name": "ipython",
    "version": 3
   },
   "file_extension": ".py",
   "mimetype": "text/x-python",
   "name": "python",
   "nbconvert_exporter": "python",
   "pygments_lexer": "ipython3",
   "version": "3.9.7"
  }
 },
 "nbformat": 4,
 "nbformat_minor": 5
}
