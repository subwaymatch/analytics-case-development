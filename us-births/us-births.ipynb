{
 "cells": [
  {
   "cell_type": "markdown",
   "id": "187bdb40-aea7-466d-a27b-4a726d529de6",
   "metadata": {
    "tags": []
   },
   "source": [
    "# US births between 1994 and 2014\n",
    "\n",
    "Author: Ye Joo Park ([ypark32@illinois.edu](mailto:ypark32@illinois.edu))\n",
    "\n",
    "- Data Source: [FiveThirtyEight - GitHub Repository](https://github.com/fivethirtyeight/data/tree/master/births)\n",
    "- Relevant Article: [Some People Are Too Superstitious To Have A Baby On Friday The 13th](http://fivethirtyeight.com/features/some-people-are-too-superstitious-to-have-a-baby-on-friday-the-13th/)\n",
    "- Data License: [CC-BY 4.0](https://creativecommons.org/licenses/by/4.0/)"
   ]
  },
  {
   "cell_type": "code",
   "execution_count": 1,
   "id": "8f55b78d-3d52-4aa6-9d9c-c7116e090b7a",
   "metadata": {},
   "outputs": [],
   "source": [
    "import pandas as pd"
   ]
  },
  {
   "cell_type": "markdown",
   "id": "d7953fdd-e754-4344-9775-910f55aa2842",
   "metadata": {},
   "source": [
    "### About the dataset\n",
    "\n",
    "`US_births_1994-2003.csv` contains U.S. births data for the years 1994 to 2014, as provided by the Centers for Disease Control and Prevention's National Center for Health Statistics and the Social Security Administration.\n",
    "\n",
    "The dataset is based on two CSV files provided by FiveThirtyEight. You can view the original CSV files at [FiveThirtyEight GitHub Repository](https://github.com/fivethirtyeight/data/tree/master/births)."
   ]
  },
  {
   "cell_type": "code",
   "execution_count": 21,
   "id": "7eafa411-0aab-4524-84f3-54fd59cbe332",
   "metadata": {},
   "outputs": [],
   "source": [
    "df = pd.read_csv('US_births_1994-2014.csv')"
   ]
  },
  {
   "cell_type": "code",
   "execution_count": 22,
   "id": "369dcd0d-4596-4d6d-b575-94fefd583ff6",
   "metadata": {},
   "outputs": [
    {
     "data": {
      "text/html": [
       "<div>\n",
       "<style scoped>\n",
       "    .dataframe tbody tr th:only-of-type {\n",
       "        vertical-align: middle;\n",
       "    }\n",
       "\n",
       "    .dataframe tbody tr th {\n",
       "        vertical-align: top;\n",
       "    }\n",
       "\n",
       "    .dataframe thead th {\n",
       "        text-align: right;\n",
       "    }\n",
       "</style>\n",
       "<table border=\"1\" class=\"dataframe\">\n",
       "  <thead>\n",
       "    <tr style=\"text-align: right;\">\n",
       "      <th></th>\n",
       "      <th>date</th>\n",
       "      <th>births</th>\n",
       "    </tr>\n",
       "  </thead>\n",
       "  <tbody>\n",
       "    <tr>\n",
       "      <th>0</th>\n",
       "      <td>1994-01-01</td>\n",
       "      <td>8096</td>\n",
       "    </tr>\n",
       "    <tr>\n",
       "      <th>1</th>\n",
       "      <td>1994-01-02</td>\n",
       "      <td>7772</td>\n",
       "    </tr>\n",
       "    <tr>\n",
       "      <th>2</th>\n",
       "      <td>1994-01-03</td>\n",
       "      <td>10142</td>\n",
       "    </tr>\n",
       "    <tr>\n",
       "      <th>3</th>\n",
       "      <td>1994-01-04</td>\n",
       "      <td>11248</td>\n",
       "    </tr>\n",
       "    <tr>\n",
       "      <th>4</th>\n",
       "      <td>1994-01-05</td>\n",
       "      <td>11053</td>\n",
       "    </tr>\n",
       "  </tbody>\n",
       "</table>\n",
       "</div>"
      ],
      "text/plain": [
       "         date  births\n",
       "0  1994-01-01    8096\n",
       "1  1994-01-02    7772\n",
       "2  1994-01-03   10142\n",
       "3  1994-01-04   11248\n",
       "4  1994-01-05   11053"
      ]
     },
     "execution_count": 22,
     "metadata": {},
     "output_type": "execute_result"
    }
   ],
   "source": [
    "df.head()"
   ]
  }
 ],
 "metadata": {
  "kernelspec": {
   "display_name": "Python 3 (ipykernel)",
   "language": "python",
   "name": "python3"
  },
  "language_info": {
   "codemirror_mode": {
    "name": "ipython",
    "version": 3
   },
   "file_extension": ".py",
   "mimetype": "text/x-python",
   "name": "python",
   "nbconvert_exporter": "python",
   "pygments_lexer": "ipython3",
   "version": "3.9.7"
  }
 },
 "nbformat": 4,
 "nbformat_minor": 5
}
